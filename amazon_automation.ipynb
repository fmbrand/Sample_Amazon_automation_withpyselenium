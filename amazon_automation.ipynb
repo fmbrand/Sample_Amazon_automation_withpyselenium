{
 "cells": [
  {
   "cell_type": "code",
   "execution_count": 6,
   "metadata": {},
   "outputs": [],
   "source": [
    "from selenium import webdriver\n",
    "from selenium.webdriver.common.by import By\n",
    "import time"
   ]
  },
  {
   "cell_type": "code",
   "execution_count": 4,
   "metadata": {},
   "outputs": [],
   "source": [
    "driver = webdriver.Chrome()\n",
    "driver.get(\"https://www.amazon.com/\")"
   ]
  },
  {
   "cell_type": "code",
   "execution_count": 5,
   "metadata": {},
   "outputs": [],
   "source": [
    "try:\n",
    "     time.sleep(20)\n",
    "     search_dropdown=driver.find_element(By.ID, \"searchDropdownBox\")\n",
    "     search_dropdown.click()\n",
    "\n",
    "     baby_option=driver.find_element(By.XPATH, \"//select[@id='searchDropdownBox']/option[text()='Baby']\")\n",
    "     baby_option.click()\n",
    "\n",
    "\n",
    "     search_input=driver.find_element(By.ID, \"twotabsearchtextbox\") \n",
    "     search_input.send_keys(\"Bag\")\n",
    "\n",
    "     time.sleep(2) \n",
    "     \n",
    "     search_button=driver.find_element(By.ID, \"nav-search-submit-button\")\n",
    "     search_button.click()\n",
    "    \n",
    "finally:\n",
    "     time.sleep(2) \n",
    "     driver.quit()   "
   ]
  }
 ],
 "metadata": {
  "kernelspec": {
   "display_name": "Python 3",
   "language": "python",
   "name": "python3"
  },
  "language_info": {
   "codemirror_mode": {
    "name": "ipython",
    "version": 3
   },
   "file_extension": ".py",
   "mimetype": "text/x-python",
   "name": "python",
   "nbconvert_exporter": "python",
   "pygments_lexer": "ipython3",
   "version": "3.11.8"
  }
 },
 "nbformat": 4,
 "nbformat_minor": 2
}
